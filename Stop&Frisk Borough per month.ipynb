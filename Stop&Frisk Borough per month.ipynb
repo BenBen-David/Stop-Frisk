{
 "cells": [
  {
   "cell_type": "code",
   "execution_count": 14,
   "metadata": {},
   "outputs": [],
   "source": [
    "import pandas as pd\n",
    "import numpy as np\n",
    "import matplotlib.pyplot as plt\n",
    "from scipy import stats\n",
    "\n",
    "from statsmodels.regression.linear_model import OLS\n",
    "import statsmodels.api as sm\n",
    "from scipy.stats import chi2_contingency"
   ]
  },
  {
   "cell_type": "code",
   "execution_count": 15,
   "metadata": {},
   "outputs": [],
   "source": [
    "df = pd.read_csv(r'/Users/bendavid/Desktop/Data/sqf-2019.csv')"
   ]
  },
  {
   "cell_type": "code",
   "execution_count": 16,
   "metadata": {},
   "outputs": [],
   "source": [
    "# Drop nans\n",
    "borough = df['STOP_LOCATION_BORO_NAME'].dropna() "
   ]
  },
  {
   "cell_type": "code",
   "execution_count": 17,
   "metadata": {},
   "outputs": [
    {
     "data": {
      "text/plain": [
       "BROOKLYN         0.320306\n",
       "MANHATTAN        0.276692\n",
       "BRONX            0.183075\n",
       "QUEENS           0.181737\n",
       "STATEN ISLAND    0.038190\n",
       "Name: STOP_LOCATION_BORO_NAME, dtype: float64"
      ]
     },
     "execution_count": 17,
     "metadata": {},
     "output_type": "execute_result"
    }
   ],
   "source": [
    "borough.value_counts(sum)"
   ]
  },
  {
   "cell_type": "code",
   "execution_count": 18,
   "metadata": {},
   "outputs": [
    {
     "data": {
      "text/plain": [
       "April        1364\n",
       "May          1358\n",
       "March        1313\n",
       "June         1267\n",
       "July         1221\n",
       "August       1095\n",
       "January      1050\n",
       "September    1033\n",
       "October      1026\n",
       "February      952\n",
       "November      925\n",
       "December      855\n",
       "Name: MONTH2, dtype: int64"
      ]
     },
     "execution_count": 18,
     "metadata": {},
     "output_type": "execute_result"
    }
   ],
   "source": [
    "#count of stop&frisk by month \n",
    "\n",
    "month = df[\"MONTH2\"]\n",
    "month.value_counts()"
   ]
  },
  {
   "cell_type": "code",
   "execution_count": 19,
   "metadata": {},
   "outputs": [
    {
     "data": {
      "text/html": [
       "<div>\n",
       "<style scoped>\n",
       "    .dataframe tbody tr th:only-of-type {\n",
       "        vertical-align: middle;\n",
       "    }\n",
       "\n",
       "    .dataframe tbody tr th {\n",
       "        vertical-align: top;\n",
       "    }\n",
       "\n",
       "    .dataframe thead th {\n",
       "        text-align: right;\n",
       "    }\n",
       "</style>\n",
       "<table border=\"1\" class=\"dataframe\">\n",
       "  <thead>\n",
       "    <tr style=\"text-align: right;\">\n",
       "      <th>MONTH2</th>\n",
       "      <th>January</th>\n",
       "      <th>February</th>\n",
       "      <th>March</th>\n",
       "      <th>April</th>\n",
       "      <th>May</th>\n",
       "      <th>June</th>\n",
       "      <th>July</th>\n",
       "      <th>August</th>\n",
       "      <th>September</th>\n",
       "      <th>October</th>\n",
       "      <th>November</th>\n",
       "      <th>December</th>\n",
       "    </tr>\n",
       "    <tr>\n",
       "      <th>STOP_LOCATION_BORO_NAME</th>\n",
       "      <th></th>\n",
       "      <th></th>\n",
       "      <th></th>\n",
       "      <th></th>\n",
       "      <th></th>\n",
       "      <th></th>\n",
       "      <th></th>\n",
       "      <th></th>\n",
       "      <th></th>\n",
       "      <th></th>\n",
       "      <th></th>\n",
       "      <th></th>\n",
       "    </tr>\n",
       "  </thead>\n",
       "  <tbody>\n",
       "    <tr>\n",
       "      <th>BROOKLYN</th>\n",
       "      <td>344</td>\n",
       "      <td>276</td>\n",
       "      <td>461</td>\n",
       "      <td>500</td>\n",
       "      <td>463</td>\n",
       "      <td>387</td>\n",
       "      <td>387</td>\n",
       "      <td>308</td>\n",
       "      <td>327</td>\n",
       "      <td>365</td>\n",
       "      <td>248</td>\n",
       "      <td>245</td>\n",
       "    </tr>\n",
       "    <tr>\n",
       "      <th>MANHATTAN</th>\n",
       "      <td>282</td>\n",
       "      <td>274</td>\n",
       "      <td>379</td>\n",
       "      <td>374</td>\n",
       "      <td>388</td>\n",
       "      <td>427</td>\n",
       "      <td>332</td>\n",
       "      <td>287</td>\n",
       "      <td>242</td>\n",
       "      <td>254</td>\n",
       "      <td>255</td>\n",
       "      <td>230</td>\n",
       "    </tr>\n",
       "    <tr>\n",
       "      <th>QUEENS</th>\n",
       "      <td>162</td>\n",
       "      <td>175</td>\n",
       "      <td>223</td>\n",
       "      <td>235</td>\n",
       "      <td>215</td>\n",
       "      <td>198</td>\n",
       "      <td>216</td>\n",
       "      <td>251</td>\n",
       "      <td>224</td>\n",
       "      <td>207</td>\n",
       "      <td>182</td>\n",
       "      <td>158</td>\n",
       "    </tr>\n",
       "    <tr>\n",
       "      <th>BRONX</th>\n",
       "      <td>214</td>\n",
       "      <td>169</td>\n",
       "      <td>199</td>\n",
       "      <td>216</td>\n",
       "      <td>249</td>\n",
       "      <td>204</td>\n",
       "      <td>254</td>\n",
       "      <td>219</td>\n",
       "      <td>192</td>\n",
       "      <td>168</td>\n",
       "      <td>196</td>\n",
       "      <td>184</td>\n",
       "    </tr>\n",
       "    <tr>\n",
       "      <th>STATEN ISLAND</th>\n",
       "      <td>48</td>\n",
       "      <td>58</td>\n",
       "      <td>51</td>\n",
       "      <td>39</td>\n",
       "      <td>43</td>\n",
       "      <td>51</td>\n",
       "      <td>32</td>\n",
       "      <td>30</td>\n",
       "      <td>48</td>\n",
       "      <td>32</td>\n",
       "      <td>44</td>\n",
       "      <td>38</td>\n",
       "    </tr>\n",
       "  </tbody>\n",
       "</table>\n",
       "</div>"
      ],
      "text/plain": [
       "MONTH2                   January  February  March  April  May  June  July  \\\n",
       "STOP_LOCATION_BORO_NAME                                                     \n",
       "BROOKLYN                     344       276    461    500  463   387   387   \n",
       "MANHATTAN                    282       274    379    374  388   427   332   \n",
       "QUEENS                       162       175    223    235  215   198   216   \n",
       "BRONX                        214       169    199    216  249   204   254   \n",
       "STATEN ISLAND                 48        58     51     39   43    51    32   \n",
       "\n",
       "MONTH2                   August  September  October  November  December  \n",
       "STOP_LOCATION_BORO_NAME                                                  \n",
       "BROOKLYN                    308        327      365       248       245  \n",
       "MANHATTAN                   287        242      254       255       230  \n",
       "QUEENS                      251        224      207       182       158  \n",
       "BRONX                       219        192      168       196       184  \n",
       "STATEN ISLAND                30         48       32        44        38  "
      ]
     },
     "execution_count": 19,
     "metadata": {},
     "output_type": "execute_result"
    }
   ],
   "source": [
    "# Create a table \n",
    "table = pd.crosstab(index=borough, columns=month) \n",
    "\n",
    "# Reorder the values \n",
    "table = table.reindex(['BROOKLYN', 'MANHATTAN', 'QUEENS', 'BRONX', 'STATEN ISLAND'])\n",
    "table = table[['January', 'February', 'March', 'April', 'May', 'June', 'July','August',\n",
    "                         'September','October','November','December']]\n",
    "table"
   ]
  },
  {
   "cell_type": "code",
   "execution_count": 22,
   "metadata": {},
   "outputs": [
    {
     "data": {
      "image/png": "[encoded data removed]",
      "text/plain": [
       "<Figure size 864x576 with 1 Axes>"
      ]
     },
     "metadata": {
      "needs_background": "light"
     },
     "output_type": "display_data"
    }
   ],
   "source": [
    "# Plot a stacked bar chart \n",
    "\n",
    "label = ['January', 'February', 'March', 'April', 'May', 'June', 'July','August',\n",
    "                         'September','October','November','December']\n",
    "\n",
    "y_value1 = table.loc['BROOKLYN']\n",
    "y_value2 = table.loc['MANHATTAN']\n",
    "y_value3 = table.loc['QUEENS']\n",
    "y_value4 = table.loc['BRONX']\n",
    "y_value5 = table.loc['STATEN ISLAND']\n",
    "\n",
    "fig, axs = plt.subplots(figsize=(12,8)) # Change the figure size        \n",
    "p1 = axs.bar(label, y_value1, color = '#FF6347')     \n",
    "p2 = axs.bar(label, y_value2, bottom=y_value1, color = '#FFA54F')\n",
    "p3 = axs.bar(label, y_value3, bottom=y_value1+y_value2, color = '#FFEC8B')\n",
    "p4 = axs.bar(label, y_value4, bottom=y_value1+y_value2+y_value3, color = '#EEE8AA')\n",
    "p5 = axs.bar(label, y_value5, bottom=y_value1+y_value2+y_value3+\n",
    "            y_value4, color = '#CDC9C9')\n",
    "\n",
    "axs.set_title(\"2019 Monthly Count of Stop-and-Frisk Practices\", \n",
    "              fontsize=20, fontweight=\"bold\")   \n",
    "axs.set_xlabel(\"Month\", fontsize=18)\n",
    "axs.set_ylabel(\"Quantity\", fontsize=18)\n",
    "axs.tick_params(labelsize=16)  \n",
    "plt.xticks(rotation=80)\n",
    "axs.legend((p1[0],p2[0],p3[0],p4[0],p5[0]),\n",
    "           (table.index),\n",
    "          bbox_to_anchor=(1.05, 1))\n",
    "\n",
    "plt.text(12, -60, \"*Data Source: NYPD\", fontsize=12)\n",
    "\n",
    "plt.show() "
   ]
  },
  {
   "cell_type": "code",
   "execution_count": null,
   "metadata": {},
   "outputs": [],
   "source": []
  }
 ],
 "metadata": {
  "kernelspec": {
   "display_name": "Python 3",
   "language": "python",
   "name": "python3"
  },
  "language_info": {
   "codemirror_mode": {
    "name": "ipython",
    "version": 3
   },
   "file_extension": ".py",
   "mimetype": "text/x-python",
   "name": "python",
   "nbconvert_exporter": "python",
   "pygments_lexer": "ipython3",
   "version": "3.8.3"
  }
 },
 "nbformat": 4,
 "nbformat_minor": 4
}
