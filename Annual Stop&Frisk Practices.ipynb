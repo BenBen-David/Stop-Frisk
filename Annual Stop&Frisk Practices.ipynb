{
 "cells": [
  {
   "cell_type": "code",
   "execution_count": 2,
   "metadata": {},
   "outputs": [],
   "source": [
    "import pandas as pd\n",
    "import numpy as np\n",
    "import matplotlib.pyplot as plt\n",
    "from scipy import stats\n",
    "\n",
    "from statsmodels.regression.linear_model import OLS\n",
    "import statsmodels.api as sm\n",
    "from scipy.stats import chi2_contingency"
   ]
  },
  {
   "cell_type": "code",
   "execution_count": 3,
   "metadata": {},
   "outputs": [
    {
     "data": {
      "text/html": [
       "<div>\n",
       "<style scoped>\n",
       "    .dataframe tbody tr th:only-of-type {\n",
       "        vertical-align: middle;\n",
       "    }\n",
       "\n",
       "    .dataframe tbody tr th {\n",
       "        vertical-align: top;\n",
       "    }\n",
       "\n",
       "    .dataframe thead th {\n",
       "        text-align: right;\n",
       "    }\n",
       "</style>\n",
       "<table border=\"1\" class=\"dataframe\">\n",
       "  <thead>\n",
       "    <tr style=\"text-align: right;\">\n",
       "      <th></th>\n",
       "      <th>Year</th>\n",
       "      <th>Stop_Frisk_Total</th>\n",
       "      <th>Total_Innocent</th>\n",
       "      <th>Black</th>\n",
       "      <th>Latin</th>\n",
       "      <th>White</th>\n",
       "    </tr>\n",
       "  </thead>\n",
       "  <tbody>\n",
       "    <tr>\n",
       "      <th>0</th>\n",
       "      <td>2019</td>\n",
       "      <td>13459</td>\n",
       "      <td>8867</td>\n",
       "      <td>7981</td>\n",
       "      <td>3869</td>\n",
       "      <td>1215</td>\n",
       "    </tr>\n",
       "    <tr>\n",
       "      <th>1</th>\n",
       "      <td>2018</td>\n",
       "      <td>11008</td>\n",
       "      <td>7645</td>\n",
       "      <td>6241</td>\n",
       "      <td>3389</td>\n",
       "      <td>1074</td>\n",
       "    </tr>\n",
       "    <tr>\n",
       "      <th>2</th>\n",
       "      <td>2017</td>\n",
       "      <td>11629</td>\n",
       "      <td>7833</td>\n",
       "      <td>6595</td>\n",
       "      <td>3567</td>\n",
       "      <td>977</td>\n",
       "    </tr>\n",
       "    <tr>\n",
       "      <th>3</th>\n",
       "      <td>2016</td>\n",
       "      <td>12404</td>\n",
       "      <td>9394</td>\n",
       "      <td>6498</td>\n",
       "      <td>3626</td>\n",
       "      <td>1270</td>\n",
       "    </tr>\n",
       "    <tr>\n",
       "      <th>4</th>\n",
       "      <td>2015</td>\n",
       "      <td>22565</td>\n",
       "      <td>18353</td>\n",
       "      <td>12223</td>\n",
       "      <td>6598</td>\n",
       "      <td>2567</td>\n",
       "    </tr>\n",
       "    <tr>\n",
       "      <th>5</th>\n",
       "      <td>2014</td>\n",
       "      <td>45787</td>\n",
       "      <td>37774</td>\n",
       "      <td>24319</td>\n",
       "      <td>12489</td>\n",
       "      <td>5467</td>\n",
       "    </tr>\n",
       "    <tr>\n",
       "      <th>6</th>\n",
       "      <td>2013</td>\n",
       "      <td>191851</td>\n",
       "      <td>169252</td>\n",
       "      <td>104958</td>\n",
       "      <td>55191</td>\n",
       "      <td>20877</td>\n",
       "    </tr>\n",
       "  </tbody>\n",
       "</table>\n",
       "</div>"
      ],
      "text/plain": [
       "   Year  Stop_Frisk_Total  Total_Innocent   Black  Latin  White\n",
       "0  2019             13459            8867    7981   3869   1215\n",
       "1  2018             11008            7645    6241   3389   1074\n",
       "2  2017             11629            7833    6595   3567    977\n",
       "3  2016             12404            9394    6498   3626   1270\n",
       "4  2015             22565           18353   12223   6598   2567\n",
       "5  2014             45787           37774   24319  12489   5467\n",
       "6  2013            191851          169252  104958  55191  20877"
      ]
     },
     "execution_count": 3,
     "metadata": {},
     "output_type": "execute_result"
    }
   ],
   "source": [
    "df = pd.read_csv(r'/Users/bendavid/Desktop/Data/stop_frisk_innocent_by_race.csv')\n",
    "df"
   ]
  },
  {
   "cell_type": "code",
   "execution_count": 4,
   "metadata": {},
   "outputs": [],
   "source": [
    "# Setting up x and y values \n",
    "\n",
    "x = df['Year']\n",
    "y = df['Stop_Frisk_Total']"
   ]
  },
  {
   "cell_type": "code",
   "execution_count": 5,
   "metadata": {},
   "outputs": [
    {
     "data": {
      "image/png": "[encoded data removed]",
      "text/plain": [
       "<Figure size 864x576 with 1 Axes>"
      ]
     },
     "metadata": {
      "needs_background": "light"
     },
     "output_type": "display_data"
    }
   ],
   "source": [
    "# Create a plot \n",
    "\n",
    "fig, axs = plt.subplots(figsize=(12,8))\n",
    "axs.plot(x,y)\n",
    "plt.title('Anual Stop & Frisk Practices', fontsize=20)\n",
    "axs.set_xlabel('Year', fontsize=18)\n",
    "axs.set_ylabel('Number of Practices', fontsize=18)\n",
    "axs.tick_params(labelsize=15)\n",
    "\n",
    "plt.show()"
   ]
  },
  {
   "cell_type": "code",
   "execution_count": null,
   "metadata": {},
   "outputs": [],
   "source": []
  }
 ],
 "metadata": {
  "kernelspec": {
   "display_name": "Python 3",
   "language": "python",
   "name": "python3"
  },
  "language_info": {
   "codemirror_mode": {
    "name": "ipython",
    "version": 3
   },
   "file_extension": ".py",
   "mimetype": "text/x-python",
   "name": "python",
   "nbconvert_exporter": "python",
   "pygments_lexer": "ipython3",
   "version": "3.8.3"
  }
 },
 "nbformat": 4,
 "nbformat_minor": 4
}
