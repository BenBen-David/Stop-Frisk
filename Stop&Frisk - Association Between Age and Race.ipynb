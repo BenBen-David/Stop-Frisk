{
 "cells": [
  {
   "cell_type": "code",
   "execution_count": 48,
   "metadata": {},
   "outputs": [],
   "source": [
    "import pandas as pd\n",
    "import numpy as np\n",
    "import matplotlib.pyplot as plt\n",
    "from scipy import stats\n",
    "\n",
    "from statsmodels.regression.linear_model import OLS\n",
    "import statsmodels.api as sm\n",
    "from scipy.stats import chi2_contingency"
   ]
  },
  {
   "cell_type": "code",
   "execution_count": 49,
   "metadata": {},
   "outputs": [],
   "source": [
    "df = pd.read_csv(r'/Users/bendavid/Desktop/Data/sqf-2019.csv')\n",
    "df = df.dropna()"
   ]
  },
  {
   "cell_type": "code",
   "execution_count": 50,
   "metadata": {},
   "outputs": [
    {
     "data": {
      "text/html": [
       "<div>\n",
       "<style scoped>\n",
       "    .dataframe tbody tr th:only-of-type {\n",
       "        vertical-align: middle;\n",
       "    }\n",
       "\n",
       "    .dataframe tbody tr th {\n",
       "        vertical-align: top;\n",
       "    }\n",
       "\n",
       "    .dataframe thead th {\n",
       "        text-align: right;\n",
       "    }\n",
       "</style>\n",
       "<table border=\"1\" class=\"dataframe\">\n",
       "  <thead>\n",
       "    <tr style=\"text-align: right;\">\n",
       "      <th></th>\n",
       "      <th>SUSPECT_REPORTED_AGE</th>\n",
       "      <th>SUSPECT_RACE_DESCRIPTION</th>\n",
       "    </tr>\n",
       "  </thead>\n",
       "  <tbody>\n",
       "    <tr>\n",
       "      <th>0</th>\n",
       "      <td>30.0</td>\n",
       "      <td>BLACK</td>\n",
       "    </tr>\n",
       "    <tr>\n",
       "      <th>1</th>\n",
       "      <td>22.0</td>\n",
       "      <td>BLACK</td>\n",
       "    </tr>\n",
       "    <tr>\n",
       "      <th>2</th>\n",
       "      <td>56.0</td>\n",
       "      <td>WHITE</td>\n",
       "    </tr>\n",
       "    <tr>\n",
       "      <th>5</th>\n",
       "      <td>17.0</td>\n",
       "      <td>BLACK</td>\n",
       "    </tr>\n",
       "    <tr>\n",
       "      <th>9</th>\n",
       "      <td>17.0</td>\n",
       "      <td>BLACK</td>\n",
       "    </tr>\n",
       "    <tr>\n",
       "      <th>...</th>\n",
       "      <td>...</td>\n",
       "      <td>...</td>\n",
       "    </tr>\n",
       "    <tr>\n",
       "      <th>13453</th>\n",
       "      <td>56.0</td>\n",
       "      <td>BLACK</td>\n",
       "    </tr>\n",
       "    <tr>\n",
       "      <th>13454</th>\n",
       "      <td>27.0</td>\n",
       "      <td>WHITE</td>\n",
       "    </tr>\n",
       "    <tr>\n",
       "      <th>13455</th>\n",
       "      <td>40.0</td>\n",
       "      <td>BLACK</td>\n",
       "    </tr>\n",
       "    <tr>\n",
       "      <th>13456</th>\n",
       "      <td>55.0</td>\n",
       "      <td>WHITE</td>\n",
       "    </tr>\n",
       "    <tr>\n",
       "      <th>13458</th>\n",
       "      <td>25.0</td>\n",
       "      <td>BLACK</td>\n",
       "    </tr>\n",
       "  </tbody>\n",
       "</table>\n",
       "<p>10615 rows × 2 columns</p>\n",
       "</div>"
      ],
      "text/plain": [
       "       SUSPECT_REPORTED_AGE SUSPECT_RACE_DESCRIPTION\n",
       "0                      30.0                    BLACK\n",
       "1                      22.0                    BLACK\n",
       "2                      56.0                    WHITE\n",
       "5                      17.0                    BLACK\n",
       "9                      17.0                    BLACK\n",
       "...                     ...                      ...\n",
       "13453                  56.0                    BLACK\n",
       "13454                  27.0                    WHITE\n",
       "13455                  40.0                    BLACK\n",
       "13456                  55.0                    WHITE\n",
       "13458                  25.0                    BLACK\n",
       "\n",
       "[10615 rows x 2 columns]"
      ]
     },
     "execution_count": 50,
     "metadata": {},
     "output_type": "execute_result"
    }
   ],
   "source": [
    "data = df[['SUSPECT_REPORTED_AGE', 'SUSPECT_RACE_DESCRIPTION']]\n",
    "data"
   ]
  },
  {
   "cell_type": "code",
   "execution_count": 51,
   "metadata": {},
   "outputs": [],
   "source": [
    "# Divide minores and adults into two different groups\n",
    "\n",
    "def kk(row):\n",
    "    if row['SUSPECT_REPORTED_AGE'] <= 18:\n",
    "        return 'Minor'\n",
    "    else:\n",
    "        return 'Adult'"
   ]
  },
  {
   "cell_type": "code",
   "execution_count": 52,
   "metadata": {},
   "outputs": [
    {
     "name": "stderr",
     "output_type": "stream",
     "text": [
      "<ipython-input-52-60ae87bc616d>:1: SettingWithCopyWarning: \n",
      "A value is trying to be set on a copy of a slice from a DataFrame.\n",
      "Try using .loc[row_indexer,col_indexer] = value instead\n",
      "\n",
      "See the caveats in the documentation: https://pandas.pydata.org/pandas-docs/stable/user_guide/indexing.html#returning-a-view-versus-a-copy\n",
      "  data['Age'] = data.apply(kk, axis = 1)\n"
     ]
    }
   ],
   "source": [
    "data['Age'] = data.apply(kk, axis = 1)"
   ]
  },
  {
   "cell_type": "code",
   "execution_count": 53,
   "metadata": {},
   "outputs": [
    {
     "data": {
      "text/html": [
       "<div>\n",
       "<style scoped>\n",
       "    .dataframe tbody tr th:only-of-type {\n",
       "        vertical-align: middle;\n",
       "    }\n",
       "\n",
       "    .dataframe tbody tr th {\n",
       "        vertical-align: top;\n",
       "    }\n",
       "\n",
       "    .dataframe thead th {\n",
       "        text-align: right;\n",
       "    }\n",
       "</style>\n",
       "<table border=\"1\" class=\"dataframe\">\n",
       "  <thead>\n",
       "    <tr style=\"text-align: right;\">\n",
       "      <th>SUSPECT_RACE_DESCRIPTION</th>\n",
       "      <th>AMERICAN INDIAN/ALASKAN N</th>\n",
       "      <th>ASIAN / PACIFIC ISLANDER</th>\n",
       "      <th>BLACK</th>\n",
       "      <th>BLACK HISPANIC</th>\n",
       "      <th>WHITE</th>\n",
       "      <th>WHITE HISPANIC</th>\n",
       "    </tr>\n",
       "    <tr>\n",
       "      <th>Age</th>\n",
       "      <th></th>\n",
       "      <th></th>\n",
       "      <th></th>\n",
       "      <th></th>\n",
       "      <th></th>\n",
       "      <th></th>\n",
       "    </tr>\n",
       "  </thead>\n",
       "  <tbody>\n",
       "    <tr>\n",
       "      <th>Adult</th>\n",
       "      <td>4</td>\n",
       "      <td>176</td>\n",
       "      <td>4589</td>\n",
       "      <td>686</td>\n",
       "      <td>845</td>\n",
       "      <td>1730</td>\n",
       "    </tr>\n",
       "    <tr>\n",
       "      <th>Minor</th>\n",
       "      <td>2</td>\n",
       "      <td>49</td>\n",
       "      <td>1688</td>\n",
       "      <td>198</td>\n",
       "      <td>134</td>\n",
       "      <td>472</td>\n",
       "    </tr>\n",
       "  </tbody>\n",
       "</table>\n",
       "</div>"
      ],
      "text/plain": [
       "SUSPECT_RACE_DESCRIPTION  AMERICAN INDIAN/ALASKAN N  ASIAN / PACIFIC ISLANDER  \\\n",
       "Age                                                                             \n",
       "Adult                                             4                       176   \n",
       "Minor                                             2                        49   \n",
       "\n",
       "SUSPECT_RACE_DESCRIPTION  BLACK  BLACK HISPANIC  WHITE  WHITE HISPANIC  \n",
       "Age                                                                     \n",
       "Adult                      4589             686    845            1730  \n",
       "Minor                      1688             198    134             472  "
      ]
     },
     "execution_count": 53,
     "metadata": {},
     "output_type": "execute_result"
    }
   ],
   "source": [
    "# Form a table of content \n",
    "\n",
    "table = pd.crosstab(index=data[\"Age\"], columns=data[\"SUSPECT_RACE_DESCRIPTION\"]) \n",
    "del table['(null)']\n",
    "table"
   ]
  },
  {
   "cell_type": "code",
   "execution_count": 54,
   "metadata": {},
   "outputs": [
    {
     "data": {
      "text/plain": [
       "Index(['AMERICAN INDIAN/ALASKAN N', 'ASIAN / PACIFIC ISLANDER', 'BLACK',\n",
       "       'BLACK HISPANIC', 'WHITE', 'WHITE HISPANIC'],\n",
       "      dtype='object', name='SUSPECT_RACE_DESCRIPTION')"
      ]
     },
     "execution_count": 54,
     "metadata": {},
     "output_type": "execute_result"
    }
   ],
   "source": [
    "table.columns"
   ]
  },
  {
   "cell_type": "code",
   "execution_count": 55,
   "metadata": {},
   "outputs": [
    {
     "name": "stdout",
     "output_type": "stream",
     "text": [
      "6\n",
      "231\n",
      "6508\n",
      "7392\n",
      "8371\n",
      "10573\n"
     ]
    }
   ],
   "source": [
    "# Sum up values  \n",
    "import numpy as np\n",
    "total = 0\n",
    "for races in table.columns:\n",
    "    total+=np.sum(table[races])\n",
    "    print(total)"
   ]
  },
  {
   "cell_type": "code",
   "execution_count": 56,
   "metadata": {},
   "outputs": [
    {
     "name": "stdout",
     "output_type": "stream",
     "text": [
      "chi2: 95.78427675903004\n",
      "p 4.0831806939716537e-19\n",
      "dof: 5\n",
      "expected: [[4.55689019e+00 1.70883382e+02 4.76726662e+03 6.71381822e+02\n",
      "  7.43532583e+02 1.67237870e+03]\n",
      " [1.44310981e+00 5.41166178e+01 1.50973338e+03 2.12618178e+02\n",
      "  2.35467417e+02 5.29621300e+02]]\n"
     ]
    }
   ],
   "source": [
    "# Chi-squared test \n",
    "\n",
    "from scipy import stats\n",
    "\n",
    "chi2, p, dof, expected = stats.chi2_contingency(table)\n",
    "\n",
    "print(\"chi2:\", chi2)\n",
    "print(\"p\", p)\n",
    "print(\"dof:\", dof)\n",
    "print(\"expected:\", expected)"
   ]
  },
  {
   "cell_type": "code",
   "execution_count": 57,
   "metadata": {},
   "outputs": [],
   "source": [
    "# Statistical analysis from chi-squared test from independence indicated\n",
    "# that there is an association between age and race.\n",
    "# (p < 0.001)."
   ]
  },
  {
   "cell_type": "code",
   "execution_count": null,
   "metadata": {},
   "outputs": [],
   "source": []
  },
  {
   "cell_type": "code",
   "execution_count": 58,
   "metadata": {},
   "outputs": [],
   "source": [
    "# Classify suspects by age\n",
    "\n",
    "adult = df['SUSPECT_REPORTED_AGE'] >= 18\n",
    "minor = df['SUSPECT_REPORTED_AGE'] < 18"
   ]
  },
  {
   "cell_type": "code",
   "execution_count": 59,
   "metadata": {},
   "outputs": [],
   "source": [
    "# Classify suspects by race\n",
    "\n",
    "black = df['SUSPECT_RACE_DESCRIPTION'] == 'BLACK'\n",
    "white = df['SUSPECT_RACE_DESCRIPTION'] == 'WHITE'"
   ]
  },
  {
   "cell_type": "code",
   "execution_count": 60,
   "metadata": {},
   "outputs": [],
   "source": [
    "# Classify suspects given their race and age\n",
    "\n",
    "\n",
    "adult_black = df[adult & black]\n",
    "minor_black = df[minor & black]\n",
    "\n",
    "adult_white = df[adult & white]\n",
    "minor_white = df[minor & white]\n"
   ]
  },
  {
   "cell_type": "code",
   "execution_count": 61,
   "metadata": {},
   "outputs": [
    {
     "data": {
      "image/png": "[encoded data removed]",
      "text/plain": [
       "<Figure size 864x576 with 1 Axes>"
      ]
     },
     "metadata": {
      "needs_background": "light"
     },
     "output_type": "display_data"
    }
   ],
   "source": [
    "# Plot a ditribution of black minors\n",
    "\n",
    "fig, axs = plt.subplots(figsize=(12,8))\n",
    "axs.hist(minor_black['SUSPECT_REPORTED_AGE'], color=\"SkyBlue\", edgecolor=\"Black\")\n",
    "plt.title(\"Black Minors Stop Frisk Age\", fontsize=20)\n",
    "axs.set_xlabel(\"Age\", fontsize=18)\n",
    "axs.set_ylabel(\"Frequency\", fontsize=18)\n",
    "axs.tick_params(labelsize=15)\n",
    "\n",
    "#plt.xticks(rotation=90)\n",
    "\n",
    "plt.show()"
   ]
  },
  {
   "cell_type": "code",
   "execution_count": 62,
   "metadata": {},
   "outputs": [
    {
     "data": {
      "image/png": "[encoded data removed]",
      "text/plain": [
       "<Figure size 864x576 with 1 Axes>"
      ]
     },
     "metadata": {
      "needs_background": "light"
     },
     "output_type": "display_data"
    }
   ],
   "source": [
    "# Plot a ditribution of white minors\n",
    "\n",
    "\n",
    "fig, axs = plt.subplots(figsize=(12,8))\n",
    "axs.hist(minor_white['SUSPECT_REPORTED_AGE'], color=\"SkyBlue\", edgecolor=\"Black\")\n",
    "plt.title(\"White Minors Stop Frisk Age\", fontsize=20)\n",
    "axs.set_xlabel(\"Age\", fontsize=18)\n",
    "axs.set_ylabel(\"Frequency\", fontsize=18)\n",
    "axs.tick_params(labelsize=15)\n",
    "\n",
    "#plt.xticks(rotation=90)\n",
    "\n",
    "plt.show()"
   ]
  },
  {
   "cell_type": "code",
   "execution_count": 63,
   "metadata": {},
   "outputs": [],
   "source": [
    "# Define CI method\n",
    "\n",
    "def CI_mean(data):\n",
    "    se = np.std(data)/np.sqrt(len(data))\n",
    "    low = np.mean(data)-1.96*se\n",
    "    up = np.mean(data)+1.96*se\n",
    "    print(\"Average is:\", np.mean(data))\n",
    "    print(\"95% CI of mean is: ({}, {})\".format(low,up))"
   ]
  },
  {
   "cell_type": "code",
   "execution_count": 64,
   "metadata": {},
   "outputs": [
    {
     "name": "stdout",
     "output_type": "stream",
     "text": [
      "Average is: 15.395454545454545\n",
      "95% CI of mean is: (15.302897461992643, 15.488011628916446)\n"
     ]
    }
   ],
   "source": [
    "# Find the CI mean of black minors \n",
    "\n",
    "CI_mean(minor_black['SUSPECT_REPORTED_AGE'])"
   ]
  },
  {
   "cell_type": "code",
   "execution_count": 65,
   "metadata": {},
   "outputs": [
    {
     "name": "stdout",
     "output_type": "stream",
     "text": [
      "Average is: 31.224732701230582\n",
      "95% CI of mean is: (30.894816189261796, 31.55464921319937)\n"
     ]
    }
   ],
   "source": [
    "# Find the CI mean of black adults \n",
    "\n",
    "CI_mean(adult_black['SUSPECT_REPORTED_AGE'])"
   ]
  },
  {
   "cell_type": "code",
   "execution_count": 66,
   "metadata": {},
   "outputs": [
    {
     "name": "stdout",
     "output_type": "stream",
     "text": [
      "Average is: 15.457142857142857\n",
      "95% CI of mean is: (15.067345872946097, 15.846939841339617)\n"
     ]
    }
   ],
   "source": [
    "# Find the CI mean of white minors \n",
    "\n",
    "CI_mean(minor_white['SUSPECT_REPORTED_AGE'])"
   ]
  },
  {
   "cell_type": "code",
   "execution_count": 67,
   "metadata": {},
   "outputs": [
    {
     "name": "stdout",
     "output_type": "stream",
     "text": [
      "Average is: 34.08466819221968\n",
      "95% CI of mean is: (33.27914865781488, 34.89018772662448)\n"
     ]
    }
   ],
   "source": [
    "# Find the CI mean of white adults \n",
    "\n",
    "CI_mean(adult_white['SUSPECT_REPORTED_AGE'])"
   ]
  },
  {
   "cell_type": "code",
   "execution_count": 68,
   "metadata": {},
   "outputs": [
    {
     "data": {
      "image/png": "[encoded data removed]",
      "text/plain": [
       "<Figure size 864x576 with 1 Axes>"
      ]
     },
     "metadata": {
      "needs_background": "light"
     },
     "output_type": "display_data"
    }
   ],
   "source": [
    "# Plot Boxplot showing the mean difference between black and white minors\n",
    "\n",
    "fig, axs = plt.subplots(figsize=(12,8))\n",
    "axs.boxplot([minor_black['SUSPECT_REPORTED_AGE'], minor_white['SUSPECT_REPORTED_AGE']])\n",
    "plt.title('Black Minors vs White Minors Average Stop & Frisk Age', fontsize=20)\n",
    "axs.set_xticklabels(['Black Minor','White Minor'])\n",
    "axs.set_ylabel('Age', fontsize=18)\n",
    "axs.tick_params(labelsize=15)\n",
    "plt.show()"
   ]
  },
  {
   "cell_type": "code",
   "execution_count": 69,
   "metadata": {},
   "outputs": [],
   "source": [
    "#Define CI mean difference method \n",
    "\n",
    "def CI_mean_diff(list1, list2):\n",
    "    s1 = np.var(list1)\n",
    "    s2 = np.var(list2)\n",
    "    n1 = len(list1)\n",
    "    n2 = len(list2)\n",
    "    se2 = s1/n1 + s2/n2\n",
    "    se = np.sqrt(se2)\n",
    "\n",
    "    diff = np.mean(list1) - np.mean(list2)\n",
    "    low = diff - 1.96 * se\n",
    "    up = diff + 1.96 * se\n",
    "    print(\"The average difference is:\", diff)\n",
    "    print(\"The 95% CI is: ({}, {})\".format(low, up))"
   ]
  },
  {
   "cell_type": "code",
   "execution_count": 70,
   "metadata": {},
   "outputs": [
    {
     "name": "stdout",
     "output_type": "stream",
     "text": [
      "The average difference is: 0.06168831168831268\n",
      "The 95% CI is: (-0.33894681231838536, 0.4623234356950107)\n"
     ]
    }
   ],
   "source": [
    "# Find CI mean difference between black and white minors\n",
    "CI_mean_diff(minor_white['SUSPECT_REPORTED_AGE'],minor_black['SUSPECT_REPORTED_AGE'])"
   ]
  },
  {
   "cell_type": "code",
   "execution_count": 71,
   "metadata": {},
   "outputs": [
    {
     "data": {
      "text/plain": [
       "True     0.540044\n",
       "False    0.459956\n",
       "Name: SUSPECT_REPORTED_AGE, dtype: float64"
      ]
     },
     "execution_count": 71,
     "metadata": {},
     "output_type": "execute_result"
    }
   ],
   "source": [
    "# Fins the percentage of black adults below 30 years old\n",
    "\n",
    "black_age = adult_black['SUSPECT_REPORTED_AGE'] \n",
    "byoungAd = black_age < 30 \n",
    "byoungAd.value_counts(sum)"
   ]
  },
  {
   "cell_type": "code",
   "execution_count": 72,
   "metadata": {},
   "outputs": [
    {
     "data": {
      "text/plain": [
       "False    0.589245\n",
       "True     0.410755\n",
       "Name: SUSPECT_REPORTED_AGE, dtype: float64"
      ]
     },
     "execution_count": 72,
     "metadata": {},
     "output_type": "execute_result"
    }
   ],
   "source": [
    "# Fins the percentage of white adults below 30 years old\n",
    "\n",
    "white_age = adult_white['SUSPECT_REPORTED_AGE'] \n",
    "wyoungAd = white_age < 30 \n",
    "wyoungAd.value_counts(sum)"
   ]
  },
  {
   "cell_type": "code",
   "execution_count": 73,
   "metadata": {},
   "outputs": [
    {
     "data": {
      "text/plain": [
       "True     0.529748\n",
       "False    0.470252\n",
       "Name: SUSPECT_REPORTED_AGE, dtype: float64"
      ]
     },
     "execution_count": 73,
     "metadata": {},
     "output_type": "execute_result"
    }
   ],
   "source": [
    "# Fins the percentage of white adults above 30 years old\n",
    "\n",
    "whiteAd = white_age > 30 \n",
    "whiteAd.value_counts(sum)"
   ]
  },
  {
   "cell_type": "code",
   "execution_count": 74,
   "metadata": {},
   "outputs": [],
   "source": [
    "# Average difference between white and black minors isn't significant. "
   ]
  },
  {
   "cell_type": "code",
   "execution_count": 88,
   "metadata": {},
   "outputs": [
    {
     "data": {
      "image/png": "[encoded data removed]",
      "text/plain": [
       "<Figure size 864x576 with 1 Axes>"
      ]
     },
     "metadata": {
      "needs_background": "light"
     },
     "output_type": "display_data"
    }
   ],
   "source": [
    "# Plot a ditribution of black adults\n",
    "\n",
    "fig, axs = plt.subplots(figsize=(12,8))\n",
    "axs.hist(adult_black['SUSPECT_REPORTED_AGE'], color=\"SkyBlue\", edgecolor=\"Black\")\n",
    "plt.title(\"Black Adults Stop & Frisk Age\", fontsize=20)\n",
    "axs.set_xlabel(\"Age\", fontsize=18)\n",
    "axs.set_ylabel(\"Frequency\", fontsize=18)\n",
    "axs.tick_params(labelsize=15)\n",
    "\n",
    "#plt.xticks(rotation=90)\n",
    "\n",
    "plt.show()"
   ]
  },
  {
   "cell_type": "code",
   "execution_count": 89,
   "metadata": {},
   "outputs": [
    {
     "data": {
      "image/png": "[encoded data removed]",
      "text/plain": [
       "<Figure size 864x576 with 1 Axes>"
      ]
     },
     "metadata": {
      "needs_background": "light"
     },
     "output_type": "display_data"
    }
   ],
   "source": [
    "# Plot a ditribution of white adults\n",
    "\n",
    "fig, axs = plt.subplots(figsize=(12,8))\n",
    "axs.hist(adult_white['SUSPECT_REPORTED_AGE'], color=\"indianred\", edgecolor=\"Black\")\n",
    "plt.title(\"White Adults Stop Frisk Age\", fontsize=20)\n",
    "axs.set_xlabel(\"Age\", fontsize=18)\n",
    "axs.set_ylabel(\"Frequency\", fontsize=18)\n",
    "axs.tick_params(labelsize=15)\n",
    "\n",
    "#plt.xticks(rotation=90)\n",
    "\n",
    "plt.show()"
   ]
  },
  {
   "cell_type": "code",
   "execution_count": 77,
   "metadata": {},
   "outputs": [
    {
     "name": "stdout",
     "output_type": "stream",
     "text": [
      "The average difference is: 2.8599354909890984\n",
      "The 95% CI is: (1.9894720367433854, 3.7303989452348114)\n"
     ]
    }
   ],
   "source": [
    "# Find the CI mean difference for white and black adults\n",
    "\n",
    "CI_mean_diff(adult_white['SUSPECT_REPORTED_AGE'],adult_black['SUSPECT_REPORTED_AGE'])"
   ]
  },
  {
   "cell_type": "code",
   "execution_count": 78,
   "metadata": {},
   "outputs": [],
   "source": [
    "# Average difference between white and black adults is more substantial than minors' \n",
    "# average difference. "
   ]
  },
  {
   "cell_type": "code",
   "execution_count": 79,
   "metadata": {},
   "outputs": [
    {
     "data": {
      "image/png": "[encoded data removed]",
      "text/plain": [
       "<Figure size 864x576 with 1 Axes>"
      ]
     },
     "metadata": {
      "needs_background": "light"
     },
     "output_type": "display_data"
    }
   ],
   "source": [
    "# Plot Boxplot showing the mean difference between black and white adults\n",
    "\n",
    "fig, axs = plt.subplots(figsize=(12,8))\n",
    "axs.boxplot([adult_black['SUSPECT_REPORTED_AGE'], adult_white['SUSPECT_REPORTED_AGE']])\n",
    "plt.title('Black Adults vs White Adults Average Stop & Frisk Age', fontsize=20)\n",
    "axs.set_xticklabels(['Black adult','White adult'])\n",
    "axs.set_ylabel('Age', fontsize=18)\n",
    "axs.tick_params(labelsize=15)\n",
    "plt.show()"
   ]
  },
  {
   "cell_type": "code",
   "execution_count": null,
   "metadata": {},
   "outputs": [],
   "source": []
  }
 ],
 "metadata": {
  "kernelspec": {
   "display_name": "Python 3",
   "language": "python",
   "name": "python3"
  },
  "language_info": {
   "codemirror_mode": {
    "name": "ipython",
    "version": 3
   },
   "file_extension": ".py",
   "mimetype": "text/x-python",
   "name": "python",
   "nbconvert_exporter": "python",
   "pygments_lexer": "ipython3",
   "version": "3.8.3"
  }
 },
 "nbformat": 4,
 "nbformat_minor": 4
}
